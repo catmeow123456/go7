{
 "cells": [
  {
   "cell_type": "code",
   "execution_count": 1,
   "metadata": {},
   "outputs": [],
   "source": [
    "from game import Board\n",
    "from nnet import NNet\n",
    "from selfplay import load_model, Coach"
   ]
  },
  {
   "cell_type": "code",
   "execution_count": 2,
   "metadata": {},
   "outputs": [],
   "source": [
    "coach = Coach(\"data/info.json\")"
   ]
  },
  {
   "cell_type": "code",
   "execution_count": 3,
   "metadata": {},
   "outputs": [],
   "source": [
    "best = load_model(coach.info[\"best\"])\n",
    "cnn = load_model(\"data/nnet-2024-10-31-17-41-13.pt\")"
   ]
  },
  {
   "cell_type": "code",
   "execution_count": 6,
   "metadata": {},
   "outputs": [
    {
     "name": "stdout",
     "output_type": "stream",
     "text": [
      "Win = 1, Lose = 0\n",
      "Win = 1, Lose = 1\n",
      "Win = 1, Lose = 2\n",
      "Win = 2, Lose = 2\n",
      "Win = 2, Lose = 3\n",
      "Win = 3, Lose = 3\n",
      "Win = 3, Lose = 4\n",
      "Win = 3, Lose = 5\n",
      "Win = 3, Lose = 6\n",
      "Win = 3, Lose = 7\n",
      "Win = 4, Lose = 7\n",
      "Win = 4, Lose = 8\n",
      "Win = 5, Lose = 8\n",
      "Win = 6, Lose = 8\n",
      "Win = 7, Lose = 8\n",
      "Win = 8, Lose = 8\n",
      "Win = 9, Lose = 8\n",
      "Win = 9, Lose = 9\n",
      "Win = 10, Lose = 9\n",
      "Win = 11, Lose = 9\n",
      "Win = 12, Lose = 9\n",
      "Win = 12, Lose = 10\n",
      "Win = 13, Lose = 10\n",
      "Win = 13, Lose = 11\n",
      "Win = 13, Lose = 12\n",
      "Win = 13, Lose = 13\n",
      "Win = 14, Lose = 13\n",
      "Win = 15, Lose = 13\n",
      "Win = 15, Lose = 14\n",
      "Win = 15, Lose = 15\n",
      "Win = 15, Lose = 16\n",
      "Win = 16, Lose = 16\n",
      "Win = 16, Lose = 17\n",
      "Win = 16, Lose = 18\n",
      "Win = 16, Lose = 19\n",
      "Win = 16, Lose = 20\n",
      "Win = 17, Lose = 20\n",
      "Win = 17, Lose = 21\n",
      "Win = 17, Lose = 22\n",
      "Win = 18, Lose = 22\n",
      "Win = 19, Lose = 22\n",
      "Win = 20, Lose = 22\n",
      "Win = 21, Lose = 22\n",
      "Win = 22, Lose = 22\n",
      "Win = 22, Lose = 23\n",
      "Win = 23, Lose = 23\n",
      "Win = 23, Lose = 24\n",
      "Win = 24, Lose = 24\n",
      "Win = 24, Lose = 25\n",
      "Win = 24, Lose = 26\n"
     ]
    },
    {
     "data": {
      "text/plain": [
       "(24, 26)"
      ]
     },
     "execution_count": 6,
     "metadata": {},
     "output_type": "execute_result"
    }
   ],
   "source": [
    "coach.compete(best, best)"
   ]
  },
  {
   "cell_type": "code",
   "execution_count": null,
   "metadata": {},
   "outputs": [],
   "source": []
  }
 ],
 "metadata": {
  "kernelspec": {
   "display_name": "pubpy",
   "language": "python",
   "name": "python3"
  },
  "language_info": {
   "codemirror_mode": {
    "name": "ipython",
    "version": 3
   },
   "file_extension": ".py",
   "mimetype": "text/x-python",
   "name": "python",
   "nbconvert_exporter": "python",
   "pygments_lexer": "ipython3",
   "version": "3.11.9"
  }
 },
 "nbformat": 4,
 "nbformat_minor": 2
}
