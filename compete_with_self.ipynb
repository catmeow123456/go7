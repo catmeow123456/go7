{
 "cells": [
  {
   "cell_type": "code",
   "execution_count": 1,
   "metadata": {},
   "outputs": [],
   "source": [
    "from selfplay import load_model, Coach\n",
    "from nnet import device\n",
    "from mcts import MCTS"
   ]
  },
  {
   "cell_type": "code",
   "execution_count": 2,
   "metadata": {},
   "outputs": [],
   "source": [
    "coach = Coach(\"data/info.json\")"
   ]
  },
  {
   "cell_type": "code",
   "execution_count": null,
   "metadata": {},
   "outputs": [],
   "source": [
    "verbest = load_model(coach.info.best)\n",
    "mcts = MCTS(verbest, coach.args)"
   ]
  },
  {
   "cell_type": "code",
   "execution_count": null,
   "metadata": {},
   "outputs": [],
   "source": [
    "mcts.__dict__"
   ]
  },
  {
   "cell_type": "code",
   "execution_count": null,
   "metadata": {},
   "outputs": [],
   "source": [
    "data = coach.selfplayEpsisode(mcts, debug=True)"
   ]
  },
  {
   "cell_type": "code",
   "execution_count": 10,
   "metadata": {},
   "outputs": [],
   "source": [
    "from game import Board\n",
    "import numpy as np\n",
    "\"\"\"\n",
    "X.O.OOO\n",
    ".XOOXXX\n",
    "X.XX.XX\n",
    "OXXXXXX\n",
    "OOXXOOO\n",
    "OOOOOOO\n",
    "X.O..O.\n",
    "\"\"\"\n",
    "arr = np.array([\n",
    "    1,0,-1,0,-1,-1,-1,\n",
    "    0,1,-1,-1,1,1,1,\n",
    "    1,0,1,1,0,1,1,\n",
    "    -1,1,1,1,1,-1,1,\n",
    "    -1,-1,1,1,-1,-1,-1,\n",
    "    -1,-1,-1,-1,-1,-1,-1,\n",
    "    1,0,-1,0,0,-1,0\n",
    "]+[0]*98, dtype=np.int8).tobytes()\n",
    "board = Board.from_state(arr)"
   ]
  },
  {
   "cell_type": "code",
   "execution_count": null,
   "metadata": {},
   "outputs": [],
   "source": [
    "print(board)"
   ]
  },
  {
   "cell_type": "code",
   "execution_count": null,
   "metadata": {},
   "outputs": [],
   "source": [
    "mcts.getActionProb(board)"
   ]
  },
  {
   "cell_type": "code",
   "execution_count": 8,
   "metadata": {},
   "outputs": [],
   "source": [
    "import numpy as np\n",
    "from game import ACTION_SIZE\n",
    "prob = mcts.getActionProb(board, 0.1)\n",
    "action = np.random.choice(range(ACTION_SIZE), p=prob)"
   ]
  },
  {
   "cell_type": "code",
   "execution_count": null,
   "metadata": {},
   "outputs": [],
   "source": [
    "print(action)"
   ]
  },
  {
   "cell_type": "code",
   "execution_count": null,
   "metadata": {},
   "outputs": [],
   "source": [
    "p, v = verbest.predict(board.bundled_input())\n",
    "print(p, v)"
   ]
  },
  {
   "cell_type": "code",
   "execution_count": null,
   "metadata": {},
   "outputs": [],
   "source": []
  }
 ],
 "metadata": {
  "kernelspec": {
   "display_name": "pubpy",
   "language": "python",
   "name": "python3"
  },
  "language_info": {
   "codemirror_mode": {
    "name": "ipython",
    "version": 3
   },
   "file_extension": ".py",
   "mimetype": "text/x-python",
   "name": "python",
   "nbconvert_exporter": "python",
   "pygments_lexer": "ipython3",
   "version": "3.11.9"
  }
 },
 "nbformat": 4,
 "nbformat_minor": 2
}
