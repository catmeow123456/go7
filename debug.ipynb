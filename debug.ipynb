{
 "cells": [
  {
   "cell_type": "code",
   "execution_count": 1,
   "metadata": {},
   "outputs": [],
   "source": [
    "import numpy as np"
   ]
  },
  {
   "cell_type": "code",
   "execution_count": 2,
   "metadata": {},
   "outputs": [],
   "source": [
    "\"\"\"\n",
    "XXXXXXX\n",
    "XXXXXOO\n",
    "XX.XXOO\n",
    "XXXXXO.\n",
    "X.XOXOO\n",
    "XXOOO.O\n",
    ".XOOOOO\n",
    "\"\"\"\n",
    "a = np.array([\n",
    "    1,1,1,1,1,1,1,\n",
    "    1,1,1,1,1,-1,-1,\n",
    "    1,1,0,1,1,-1,-1,\n",
    "    1,1,1,1,1,-1,0,\n",
    "    1,0,1,-1,1,-1,-1,\n",
    "    1,1,-1,-1,-1,0,-1,\n",
    "    0,1,-1,-1,-1,-1,-1\n",
    "] + [0]*98,dtype=np.int8).tobytes()"
   ]
  },
  {
   "cell_type": "code",
   "execution_count": 3,
   "metadata": {},
   "outputs": [],
   "source": [
    "from game import Board"
   ]
  },
  {
   "cell_type": "code",
   "execution_count": 4,
   "metadata": {},
   "outputs": [],
   "source": [
    "from selfplay import load_model, Coach\n",
    "from nnet import device\n",
    "from mcts import MCTS"
   ]
  },
  {
   "cell_type": "code",
   "execution_count": 5,
   "metadata": {},
   "outputs": [],
   "source": [
    "coach = Coach(\"data/info.json\")\n",
    "verbest = load_model(coach.info[\"best\"])\n",
    "mcts = MCTS(verbest, coach.args)"
   ]
  },
  {
   "cell_type": "code",
   "execution_count": 6,
   "metadata": {},
   "outputs": [],
   "source": [
    "x = Board.from_state(a)"
   ]
  },
  {
   "cell_type": "code",
   "execution_count": 7,
   "metadata": {},
   "outputs": [
    {
     "name": "stdout",
     "output_type": "stream",
     "text": [
      "XXXXXXX\n",
      "XXXXXOO\n",
      "XX.XXOO\n",
      "XXXXXO.\n",
      "X.XOXOO\n",
      "XXOOO.O\n",
      ".XOOOOO\n",
      "\n"
     ]
    }
   ],
   "source": [
    "print(x)"
   ]
  },
  {
   "cell_type": "code",
   "execution_count": 8,
   "metadata": {},
   "outputs": [
    {
     "name": "stdout",
     "output_type": "stream",
     "text": [
      "Black score:  27\n",
      "White score:  26\n"
     ]
    },
    {
     "data": {
      "text/plain": [
       "1"
      ]
     },
     "execution_count": 8,
     "metadata": {},
     "output_type": "execute_result"
    }
   ],
   "source": [
    "x.referee.determine_winner(x.board.tolist())"
   ]
  },
  {
   "cell_type": "code",
   "execution_count": null,
   "metadata": {},
   "outputs": [],
   "source": [
    "res = mcts.getActionProb(x)\n",
    "for i in range(49):\n",
    "    if res[i] > 0.01:\n",
    "        print(x.int2move(i), ':', res[i], ':', mcts.query_v(x, i))"
   ]
  },
  {
   "cell_type": "code",
   "execution_count": null,
   "metadata": {},
   "outputs": [],
   "source": [
    "from game import game_end"
   ]
  },
  {
   "cell_type": "code",
   "execution_count": null,
   "metadata": {},
   "outputs": [],
   "source": [
    "x.referee.determine_winner(x.board.tolist())"
   ]
  },
  {
   "cell_type": "code",
   "execution_count": null,
   "metadata": {},
   "outputs": [],
   "source": []
  }
 ],
 "metadata": {
  "kernelspec": {
   "display_name": "pubpy",
   "language": "python",
   "name": "python3"
  },
  "language_info": {
   "codemirror_mode": {
    "name": "ipython",
    "version": 3
   },
   "file_extension": ".py",
   "mimetype": "text/x-python",
   "name": "python",
   "nbconvert_exporter": "python",
   "pygments_lexer": "ipython3",
   "version": "3.11.9"
  }
 },
 "nbformat": 4,
 "nbformat_minor": 2
}
