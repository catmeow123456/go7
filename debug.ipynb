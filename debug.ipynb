{
 "cells": [
  {
   "cell_type": "code",
   "execution_count": 1,
   "metadata": {},
   "outputs": [],
   "source": [
    "import numpy as np"
   ]
  },
  {
   "cell_type": "code",
   "execution_count": 2,
   "metadata": {},
   "outputs": [],
   "source": [
    "\"\"\"\n",
    ".....O.\n",
    "..XXO..\n",
    "..XOOO.\n",
    ".XOXXX.\n",
    ".OOX...\n",
    ".O.OXX.\n",
    "..O....\n",
    "\"\"\"\n",
    "a = np.array([\n",
    "0,0,0,0,0,-1,0,\n",
    "0,0,1,1,-1,0,0,\n",
    "0,0,1,-1,-1,-1,0,\n",
    "0,1,-1,1,1,1,0,\n",
    "0,-1,-1,1,0,0,0,\n",
    "0,-1,0,-1,1,1,0,\n",
    "0,0,-1,0,0,0,0\n",
    "] + [0]*98,dtype=np.int8).tobytes()"
   ]
  },
  {
   "cell_type": "code",
   "execution_count": 3,
   "metadata": {},
   "outputs": [],
   "source": [
    "from game import Board"
   ]
  },
  {
   "cell_type": "code",
   "execution_count": 4,
   "metadata": {},
   "outputs": [],
   "source": [
    "from selfplay import load_model, Coach\n",
    "from nnet import device\n",
    "from mcts import MCTS"
   ]
  },
  {
   "cell_type": "code",
   "execution_count": 5,
   "metadata": {},
   "outputs": [],
   "source": [
    "coach = Coach(\"data/info.json\")\n",
    "verbest = load_model(coach.info[\"best\"])\n",
    "mcts = MCTS(verbest, coach.args)"
   ]
  },
  {
   "cell_type": "code",
   "execution_count": 6,
   "metadata": {},
   "outputs": [
    {
     "name": "stdout",
     "output_type": "stream",
     "text": [
      ".....O.\n",
      "..XXO..\n",
      "..XOOO.\n",
      ".XOXXX.\n",
      ".OOX...\n",
      ".O.OXX.\n",
      "..O....\n",
      "\n"
     ]
    }
   ],
   "source": [
    "x = Board.from_state(a)\n",
    "print(x)"
   ]
  },
  {
   "cell_type": "code",
   "execution_count": 17,
   "metadata": {},
   "outputs": [
    {
     "data": {
      "text/plain": [
       "(np.int64(3), np.int64(0))"
      ]
     },
     "execution_count": 17,
     "metadata": {},
     "output_type": "execute_result"
    }
   ],
   "source": [
    "act = mcts.best_move(x, 10)\n",
    "x.int2move(act)"
   ]
  },
  {
   "cell_type": "code",
   "execution_count": 19,
   "metadata": {},
   "outputs": [
    {
     "data": {
      "text/plain": [
       "0.3853103490770958"
      ]
     },
     "execution_count": 19,
     "metadata": {},
     "output_type": "execute_result"
    }
   ],
   "source": [
    "mcts.query_v(x, x.move2int(3, 0))"
   ]
  },
  {
   "cell_type": "code",
   "execution_count": null,
   "metadata": {},
   "outputs": [],
   "source": [
    "res = mcts.getActionProb(x)\n",
    "for i in range(49):\n",
    "    if res[i] > 0.01:\n",
    "        print(x.int2move(i), ':', res[i], ':', mcts.query_v(x, i))"
   ]
  },
  {
   "cell_type": "code",
   "execution_count": null,
   "metadata": {},
   "outputs": [],
   "source": [
    "from game import game_end"
   ]
  },
  {
   "cell_type": "code",
   "execution_count": null,
   "metadata": {},
   "outputs": [],
   "source": [
    "x.referee.determine_winner(x.board.tolist())"
   ]
  },
  {
   "cell_type": "code",
   "execution_count": null,
   "metadata": {},
   "outputs": [],
   "source": []
  }
 ],
 "metadata": {
  "kernelspec": {
   "display_name": "pubpy",
   "language": "python",
   "name": "python3"
  },
  "language_info": {
   "codemirror_mode": {
    "name": "ipython",
    "version": 3
   },
   "file_extension": ".py",
   "mimetype": "text/x-python",
   "name": "python",
   "nbconvert_exporter": "python",
   "pygments_lexer": "ipython3",
   "version": "3.11.9"
  }
 },
 "nbformat": 4,
 "nbformat_minor": 2
}
