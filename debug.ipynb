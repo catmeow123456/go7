{
 "cells": [
  {
   "cell_type": "code",
   "execution_count": 1,
   "metadata": {},
   "outputs": [],
   "source": [
    "from game import Board, game_end\n",
    "import numpy as np"
   ]
  },
  {
   "cell_type": "code",
   "execution_count": 2,
   "metadata": {},
   "outputs": [],
   "source": [
    "\"\"\"\n",
    ".OOO.OO\n",
    "O.OOOOX\n",
    "OO.OOOX\n",
    "OOOXXXX\n",
    "XOOXXXX\n",
    "XXXX.X.\n",
    "XXXXXXX\n",
    "\"\"\"\n",
    "arr = np.array([\n",
    "    0,-1,-1,-1,0,-1,-1,\n",
    "    -1,0,-1,-1,-1,-1,1,\n",
    "    -1,-1,0,-1,-1,-1,1,\n",
    "    -1,-1,-1,1,1,1,1,\n",
    "    1,-1,-1,1,1,1,1,\n",
    "    1,1,1,1,0,1,0,\n",
    "    1,1,1,1,1,1,1\n",
    "\n",
    "]+[0]*98, dtype=np.int8).tobytes()"
   ]
  },
  {
   "cell_type": "code",
   "execution_count": null,
   "metadata": {},
   "outputs": [],
   "source": [
    "game = Board.from_state(arr)\n",
    "print(game)"
   ]
  },
  {
   "cell_type": "code",
   "execution_count": null,
   "metadata": {},
   "outputs": [],
   "source": [
    "game_end(game)"
   ]
  },
  {
   "cell_type": "code",
   "execution_count": null,
   "metadata": {},
   "outputs": [],
   "source": []
  }
 ],
 "metadata": {
  "kernelspec": {
   "display_name": "pubpy",
   "language": "python",
   "name": "python3"
  },
  "language_info": {
   "codemirror_mode": {
    "name": "ipython",
    "version": 3
   },
   "file_extension": ".py",
   "mimetype": "text/x-python",
   "name": "python",
   "nbconvert_exporter": "python",
   "pygments_lexer": "ipython3",
   "version": "3.11.9"
  }
 },
 "nbformat": 4,
 "nbformat_minor": 2
}
