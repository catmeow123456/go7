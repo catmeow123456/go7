{
 "cells": [
  {
   "cell_type": "code",
   "execution_count": 16,
   "metadata": {},
   "outputs": [],
   "source": [
    "import torch\n",
    "from game import Board, ACTION_SIZE, evaluate\n",
    "import numpy as np"
   ]
  },
  {
   "cell_type": "code",
   "execution_count": 24,
   "metadata": {},
   "outputs": [],
   "source": [
    "# arr = np.array([\n",
    "#     0, 0, 0, 0, 0, 0, 0,\n",
    "#     0, 0, 0, 0, 0, 0, 0,\n",
    "#     0, 0, 0, 0, 0, 0, 0,\n",
    "#     0, 0, 0, 0, 0, 0, 0,\n",
    "#     0, 0, 0, 0, 0, 0, 0,\n",
    "#     0, 0, 0, 0, 0, 0, 0,\n",
    "#     0, 0, 0, 0, 0, 0, 0\n",
    "# ] + [0]*98, dtype=np.int8).tobytes()\n",
    "# board = Board.from_state(arr)"
   ]
  },
  {
   "cell_type": "code",
   "execution_count": 38,
   "metadata": {},
   "outputs": [
    {
     "name": "stdout",
     "output_type": "stream",
     "text": [
      ".OO....\n",
      ".XXO..O\n",
      "XX.....\n",
      ".......\n",
      ".......\n",
      ".......\n",
      ".......\n",
      "\n",
      "(4, 4)\n"
     ]
    }
   ],
   "source": [
    "board = Board()\n",
    "board.place(2, 0)\n",
    "board.place(0, 1)\n",
    "board.place(1, 1)\n",
    "board.place(0, 2)\n",
    "board.place(2, 1)\n",
    "board.place(1, 6)\n",
    "board.place(1, 2)\n",
    "board.place(1, 3)\n",
    "print(board)\n",
    "print(evaluate(board))"
   ]
  },
  {
   "cell_type": "code",
   "execution_count": 39,
   "metadata": {},
   "outputs": [],
   "source": [
    "from model import MCTS, NNet"
   ]
  },
  {
   "cell_type": "code",
   "execution_count": 40,
   "metadata": {},
   "outputs": [
    {
     "name": "stderr",
     "output_type": "stream",
     "text": [
      "/tmp/ipykernel_2306414/2843683794.py:2: FutureWarning: You are using `torch.load` with `weights_only=False` (the current default value), which uses the default pickle module implicitly. It is possible to construct malicious pickle data which will execute arbitrary code during unpickling (See https://github.com/pytorch/pytorch/blob/main/SECURITY.md#untrusted-models for more details). In a future release, the default value for `weights_only` will be flipped to `True`. This limits the functions that could be executed during unpickling. Arbitrary objects will no longer be allowed to be loaded via this mode unless they are explicitly allowlisted by the user via `torch.serialization.add_safe_globals`. We recommend you start setting `weights_only=True` for any use case where you don't have full control of the loaded file. Please open an issue on GitHub for any issues related to this experimental feature.\n",
      "  saved_state = torch.load(\"data/cnn.pt\", map_location='cpu')\n"
     ]
    },
    {
     "data": {
      "text/plain": [
       "<All keys matched successfully>"
      ]
     },
     "execution_count": 40,
     "metadata": {},
     "output_type": "execute_result"
    }
   ],
   "source": [
    "nnet = NNet(0, 128, 256)\n",
    "saved_state = torch.load(\"data/cnn.pt\", map_location='cpu')\n",
    "nnet.load_state_dict(saved_state)"
   ]
  },
  {
   "cell_type": "code",
   "execution_count": 41,
   "metadata": {},
   "outputs": [
    {
     "name": "stdout",
     "output_type": "stream",
     "text": [
      "[-0.01434753]\n",
      "(0, 4): 0.15100513398647308\n",
      "(1, 4): 0.4997500777244568\n",
      "(2, 5): 0.06001560762524605\n"
     ]
    }
   ],
   "source": [
    "p, v = nnet.predict(board.bundled_input(board.legal_moves_input()))\n",
    "print(v)\n",
    "for i in range(ACTION_SIZE):\n",
    "    if p[i] > 0.04:\n",
    "        print(f\"{ board.int2move(i) }: {p[i]}\")"
   ]
  },
  {
   "cell_type": "code",
   "execution_count": null,
   "metadata": {},
   "outputs": [],
   "source": []
  },
  {
   "cell_type": "code",
   "execution_count": 6,
   "metadata": {},
   "outputs": [],
   "source": [
    "mcts = MCTS(nnet)"
   ]
  },
  {
   "cell_type": "code",
   "execution_count": null,
   "metadata": {},
   "outputs": [],
   "source": [
    "board.int2move(mcts.best_move(board, 10))"
   ]
  },
  {
   "cell_type": "code",
   "execution_count": null,
   "metadata": {},
   "outputs": [],
   "source": [
    "mcts.query_v(board, board.move2int(3, 3))"
   ]
  },
  {
   "cell_type": "code",
   "execution_count": 7,
   "metadata": {},
   "outputs": [],
   "source": []
  },
  {
   "cell_type": "code",
   "execution_count": null,
   "metadata": {},
   "outputs": [],
   "source": []
  },
  {
   "cell_type": "code",
   "execution_count": null,
   "metadata": {},
   "outputs": [],
   "source": [
    "board.color"
   ]
  },
  {
   "cell_type": "code",
   "execution_count": null,
   "metadata": {},
   "outputs": [],
   "source": []
  }
 ],
 "metadata": {
  "kernelspec": {
   "display_name": "RL",
   "language": "python",
   "name": "python3"
  },
  "language_info": {
   "codemirror_mode": {
    "name": "ipython",
    "version": 3
   },
   "file_extension": ".py",
   "mimetype": "text/x-python",
   "name": "python",
   "nbconvert_exporter": "python",
   "pygments_lexer": "ipython3",
   "version": "3.12.5"
  }
 },
 "nbformat": 4,
 "nbformat_minor": 2
}
