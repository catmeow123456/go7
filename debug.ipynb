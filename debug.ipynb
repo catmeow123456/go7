{
 "cells": [
  {
   "cell_type": "code",
   "execution_count": 1,
   "metadata": {},
   "outputs": [],
   "source": [
    "import torch\n",
    "from game import Board, ACTION_SIZE, evaluate\n",
    "import numpy as np"
   ]
  },
  {
   "cell_type": "code",
   "execution_count": 2,
   "metadata": {},
   "outputs": [],
   "source": [
    "\"\"\"\n",
    "_XOX_XX\n",
    "__OOXO_\n",
    "___XO_O\n",
    "XXX_OO_\n",
    "_OOOXXO\n",
    "OOXXXX_\n",
    "O_OXX_X\n",
    "\"\"\"\n",
    "arr = np.array([\n",
    "    0, 1, -1, 1, 0, 1, 1,\n",
    "    0, 0, -1, -1, 1, -1, 0,\n",
    "    0, 0, 0, 1, -1, 0, -1,\n",
    "    1, 1, 1, 0, -1, -1, 0,\n",
    "    0, -1, -1, -1, 1, 1, -1,\n",
    "    -1, -1, 1, 1, 1, 1, 0,\n",
    "    -1, 0, -1, 1, 1, 0, 1\n",
    "], dtype=np.int32).tobytes()\n",
    "board = Board.from_state(arr)"
   ]
  },
  {
   "cell_type": "code",
   "execution_count": 3,
   "metadata": {},
   "outputs": [
    {
     "name": "stdout",
     "output_type": "stream",
     "text": [
      "_XOX_XX\n",
      "__OOXO_\n",
      "___XO_O\n",
      "XXX_OO_\n",
      "_OOOXXO\n",
      "OOXXXX_\n",
      "O_OXX_X\n",
      "\n",
      "(16, 25)\n"
     ]
    }
   ],
   "source": [
    "print(board)\n",
    "print(evaluate(board))"
   ]
  },
  {
   "cell_type": "code",
   "execution_count": 4,
   "metadata": {},
   "outputs": [],
   "source": [
    "from model import MCTS, NNet"
   ]
  },
  {
   "cell_type": "code",
   "execution_count": 5,
   "metadata": {},
   "outputs": [
    {
     "name": "stderr",
     "output_type": "stream",
     "text": [
      "/tmp/ipykernel_211380/2843683794.py:2: FutureWarning: You are using `torch.load` with `weights_only=False` (the current default value), which uses the default pickle module implicitly. It is possible to construct malicious pickle data which will execute arbitrary code during unpickling (See https://github.com/pytorch/pytorch/blob/main/SECURITY.md#untrusted-models for more details). In a future release, the default value for `weights_only` will be flipped to `True`. This limits the functions that could be executed during unpickling. Arbitrary objects will no longer be allowed to be loaded via this mode unless they are explicitly allowlisted by the user via `torch.serialization.add_safe_globals`. We recommend you start setting `weights_only=True` for any use case where you don't have full control of the loaded file. Please open an issue on GitHub for any issues related to this experimental feature.\n",
      "  saved_state = torch.load(\"data/cnn.pt\", map_location='cpu')\n"
     ]
    },
    {
     "data": {
      "text/plain": [
       "<All keys matched successfully>"
      ]
     },
     "execution_count": 5,
     "metadata": {},
     "output_type": "execute_result"
    }
   ],
   "source": [
    "nnet = NNet(0, 128, 256)\n",
    "saved_state = torch.load(\"data/cnn.pt\", map_location='cpu')\n",
    "nnet.load_state_dict(saved_state)"
   ]
  },
  {
   "cell_type": "code",
   "execution_count": 6,
   "metadata": {},
   "outputs": [],
   "source": [
    "mcts = MCTS(nnet)"
   ]
  },
  {
   "cell_type": "code",
   "execution_count": 11,
   "metadata": {},
   "outputs": [
    {
     "name": "stdout",
     "output_type": "stream",
     "text": [
      "count= 1389\n"
     ]
    },
    {
     "data": {
      "text/plain": [
       "(3, 3)"
      ]
     },
     "execution_count": 11,
     "metadata": {},
     "output_type": "execute_result"
    }
   ],
   "source": [
    "board.int2move(mcts.best_move(board, 10))"
   ]
  },
  {
   "cell_type": "code",
   "execution_count": 13,
   "metadata": {},
   "outputs": [
    {
     "data": {
      "text/plain": [
       "0.4739432541980311"
      ]
     },
     "execution_count": 13,
     "metadata": {},
     "output_type": "execute_result"
    }
   ],
   "source": [
    "mcts.query_v(board, board.move2int(3, 3))"
   ]
  },
  {
   "cell_type": "code",
   "execution_count": 27,
   "metadata": {},
   "outputs": [],
   "source": [
    "p, v = nnet.predict(board.bundled_input(board.legal_moves_input()))"
   ]
  },
  {
   "cell_type": "code",
   "execution_count": null,
   "metadata": {},
   "outputs": [],
   "source": [
    "print(v)\n",
    "for i in range(ACTION_SIZE):\n",
    "    if p[i] > 0.02:\n",
    "        print(f\"{ board.int2move(i) }: {p[i]}\")"
   ]
  },
  {
   "cell_type": "code",
   "execution_count": null,
   "metadata": {},
   "outputs": [],
   "source": []
  }
 ],
 "metadata": {
  "kernelspec": {
   "display_name": "RL",
   "language": "python",
   "name": "python3"
  },
  "language_info": {
   "codemirror_mode": {
    "name": "ipython",
    "version": 3
   },
   "file_extension": ".py",
   "mimetype": "text/x-python",
   "name": "python",
   "nbconvert_exporter": "python",
   "pygments_lexer": "ipython3",
   "version": "3.12.5"
  }
 },
 "nbformat": 4,
 "nbformat_minor": 2
}
