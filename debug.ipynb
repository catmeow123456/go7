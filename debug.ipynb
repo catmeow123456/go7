{
 "cells": [
  {
   "cell_type": "code",
   "execution_count": 1,
   "metadata": {},
   "outputs": [],
   "source": [
    "import torch\n",
    "from game import Board, ACTION_SIZE, evaluate\n",
    "import numpy as np"
   ]
  },
  {
   "cell_type": "code",
   "execution_count": 10,
   "metadata": {},
   "outputs": [],
   "source": [
    "arr = np.array([\n",
    "    0, -1, 1, 1, 0, 1, 1,\n",
    "    0, -1, 1, 0, 0, 1, 0,\n",
    "    0, 0, -1, 0, -1, 0, -1,\n",
    "    0, 0, 0, 0, -1, -1, 0,\n",
    "    0, 0, 0, -1, 1, 1, -1,\n",
    "    0, 0, 1, 1, 1, 1, 0,\n",
    "    0, 0, -1, 1, 1, 0, 1\n",
    "], dtype=np.int32).tobytes()\n",
    "board = Board.from_state(arr)"
   ]
  },
  {
   "cell_type": "code",
   "execution_count": null,
   "metadata": {},
   "outputs": [],
   "source": [
    "board.place(2, 1)\n",
    "board.place(1, 3)\n",
    "board.place(0, 4)\n",
    "print(board)\n",
    "print(evaluate(board))"
   ]
  },
  {
   "cell_type": "code",
   "execution_count": 4,
   "metadata": {},
   "outputs": [],
   "source": [
    "from model import MCTS, NNet"
   ]
  },
  {
   "cell_type": "code",
   "execution_count": null,
   "metadata": {},
   "outputs": [],
   "source": [
    "nnet = NNet(0, 128, 256)\n",
    "saved_state = torch.load(\"data/cnn.pt\", map_location='cpu')\n",
    "nnet.load_state_dict(saved_state)"
   ]
  },
  {
   "cell_type": "code",
   "execution_count": 6,
   "metadata": {},
   "outputs": [],
   "source": [
    "mcts = MCTS(nnet)"
   ]
  },
  {
   "cell_type": "code",
   "execution_count": null,
   "metadata": {},
   "outputs": [],
   "source": [
    "board.int2move(mcts.best_move(board, 10))"
   ]
  },
  {
   "cell_type": "code",
   "execution_count": null,
   "metadata": {},
   "outputs": [],
   "source": [
    "mcts.query_v(board, board.move2int(3, 3))"
   ]
  },
  {
   "cell_type": "code",
   "execution_count": 12,
   "metadata": {},
   "outputs": [],
   "source": [
    "p, v = nnet.predict(board.bundled_input(board.legal_moves_input()))"
   ]
  },
  {
   "cell_type": "code",
   "execution_count": null,
   "metadata": {},
   "outputs": [],
   "source": [
    "print(v)\n",
    "for i in range(ACTION_SIZE):\n",
    "    if p[i] > 0.02:\n",
    "        print(f\"{ board.int2move(i) }: {p[i]}\")"
   ]
  },
  {
   "cell_type": "code",
   "execution_count": null,
   "metadata": {},
   "outputs": [],
   "source": [
    "board.color"
   ]
  },
  {
   "cell_type": "code",
   "execution_count": null,
   "metadata": {},
   "outputs": [],
   "source": []
  }
 ],
 "metadata": {
  "kernelspec": {
   "display_name": "RL",
   "language": "python",
   "name": "python3"
  },
  "language_info": {
   "codemirror_mode": {
    "name": "ipython",
    "version": 3
   },
   "file_extension": ".py",
   "mimetype": "text/x-python",
   "name": "python",
   "nbconvert_exporter": "python",
   "pygments_lexer": "ipython3",
   "version": "3.12.5"
  }
 },
 "nbformat": 4,
 "nbformat_minor": 2
}
