{
 "cells": [
  {
   "cell_type": "code",
   "execution_count": 2,
   "metadata": {},
   "outputs": [],
   "source": [
    "from game import Board\n",
    "from nnet import NNet\n",
    "from selfplay import load_model"
   ]
  },
  {
   "cell_type": "code",
   "execution_count": 11,
   "metadata": {},
   "outputs": [],
   "source": [
    "best = load_model(\"data/nnet-2024-10-10 08:51:44.pt\")\n",
    "cnn = load_model(\"data/cnn.pt\")"
   ]
  },
  {
   "cell_type": "code",
   "execution_count": 12,
   "metadata": {},
   "outputs": [],
   "source": [
    "board = Board()"
   ]
  },
  {
   "cell_type": "code",
   "execution_count": 15,
   "metadata": {},
   "outputs": [
    {
     "name": "stdout",
     "output_type": "stream",
     "text": [
      "[1.95114299e-05 2.10259841e-05 2.96461039e-05 7.37068913e-05\n",
      " 8.45319664e-05 1.36660765e-05 5.30571997e-05 4.24523096e-05\n",
      " 1.05898711e-04 4.62536809e-06 1.59742449e-05 1.26786399e-05\n",
      " 5.23005438e-04 2.25499316e-05 2.34291983e-05 1.86439138e-05\n",
      " 7.53712302e-05 1.15741386e-05 1.12397038e-05 1.02680933e-05\n",
      " 2.62146696e-05 2.88289180e-03 3.06822694e-05 7.37213350e-06\n",
      " 7.20989406e-02 2.40169629e-05 1.77324382e-05 1.71886550e-05\n",
      " 5.03166848e-05 9.88743977e-06 3.79626290e-05 2.33456904e-05\n",
      " 1.04532619e-05 1.50793358e-05 2.77831386e-05 3.18021703e-05\n",
      " 1.87253784e-02 2.89459058e-05 8.64556114e-06 4.26069437e-06\n",
      " 1.25830047e-04 2.11360348e-05 4.83802687e-05 3.68993205e-05\n",
      " 2.94152560e-05 1.38075280e-04 2.92751029e-05 3.34252145e-05\n",
      " 2.12872674e-05 9.04264390e-01] [-0.00274978]\n"
     ]
    }
   ],
   "source": [
    "p, v = best.predict(board.bundled_input())\n",
    "print(p, v)"
   ]
  },
  {
   "cell_type": "code",
   "execution_count": 16,
   "metadata": {},
   "outputs": [
    {
     "data": {
      "text/plain": [
       "True"
      ]
     },
     "execution_count": 16,
     "metadata": {},
     "output_type": "execute_result"
    }
   ],
   "source": [
    "board.place(*board.int2move(49))"
   ]
  },
  {
   "cell_type": "code",
   "execution_count": 21,
   "metadata": {},
   "outputs": [
    {
     "name": "stdout",
     "output_type": "stream",
     "text": [
      "[0.0148952  0.01185301 0.04961789 0.03043795 0.02440641 0.01389293\n",
      " 0.01703903 0.02034451 0.04143343 0.01296101 0.01349073 0.0136039\n",
      " 0.04010902 0.0127647  0.02594059 0.01354965 0.01577847 0.01375482\n",
      " 0.01549579 0.01316716 0.04934703 0.02501073 0.01343544 0.01378687\n",
      " 0.01572135 0.01340042 0.01335115 0.02805447 0.03903891 0.01270739\n",
      " 0.01521388 0.01360525 0.01451896 0.0133562  0.0274106  0.01257416\n",
      " 0.03197329 0.01330224 0.01307632 0.01295944 0.02839294 0.01460482\n",
      " 0.01250396 0.01473044 0.02138601 0.02216466 0.03598701 0.01355777\n",
      " 0.01196414 0.01832804] [0.15834095]\n"
     ]
    }
   ],
   "source": [
    "p, v = cnn.predict(board.bundled_input())\n",
    "print(p, v)"
   ]
  },
  {
   "cell_type": "code",
   "execution_count": null,
   "metadata": {},
   "outputs": [],
   "source": [
    "p, v = cnn.predict(board.bundled_input())\n",
    "print(p, v)"
   ]
  }
 ],
 "metadata": {
  "kernelspec": {
   "display_name": "pubpy",
   "language": "python",
   "name": "python3"
  },
  "language_info": {
   "codemirror_mode": {
    "name": "ipython",
    "version": 3
   },
   "file_extension": ".py",
   "mimetype": "text/x-python",
   "name": "python",
   "nbconvert_exporter": "python",
   "pygments_lexer": "ipython3",
   "version": "3.11.9"
  }
 },
 "nbformat": 4,
 "nbformat_minor": 2
}
